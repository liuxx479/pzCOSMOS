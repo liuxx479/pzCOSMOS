{
  "nbformat": 4,
  "nbformat_minor": 0,
  "metadata": {
    "kernelspec": {
      "display_name": "Python 3",
      "language": "python",
      "name": "python3"
    },
    "language_info": {
      "codemirror_mode": {
        "name": "ipython",
        "version": 3
      },
      "file_extension": ".py",
      "mimetype": "text/x-python",
      "name": "python",
      "nbconvert_exporter": "python",
      "pygments_lexer": "ipython3",
      "version": "3.7.6"
    },
    "colab": {
      "name": "prep_kappaTNG.ipynb",
      "provenance": [],
      "include_colab_link": true
    }
  },
  "cells": [
    {
      "cell_type": "markdown",
      "metadata": {
        "id": "view-in-github",
        "colab_type": "text"
      },
      "source": [
        "<a href=\"https://colab.research.google.com/github/liuxx479/pzCOSMOS/blob/main/prep_kappaTNG.ipynb\" target=\"_parent\"><img src=\"https://colab.research.google.com/assets/colab-badge.svg\" alt=\"Open In Colab\"/></a>"
      ]
    },
    {
      "cell_type": "code",
      "metadata": {
        "id": "HYMA-tVZQROO"
      },
      "source": [
        "import numpy as np\n",
        "from pylab import *\n",
        "import os\n",
        "from scipy.interpolate import interp1d\n",
        "%matplotlib inline"
      ],
      "execution_count": 1,
      "outputs": []
    },
    {
      "cell_type": "code",
      "metadata": {
        "id": "4q7z4dm5QROP",
        "outputId": "f71543d5-ecc4-4e6c-d20e-fa14fee4b156",
        "colab": {
          "base_uri": "https://localhost:8080/"
        }
      },
      "source": [
        "from google.colab import drive\n",
        "drive.mount('/content/drive')"
      ],
      "execution_count": 2,
      "outputs": [
        {
          "output_type": "stream",
          "text": [
            "Mounted at /content/drive\n"
          ],
          "name": "stdout"
        }
      ]
    },
    {
      "cell_type": "code",
      "metadata": {
        "id": "fZVIAlQmQROP"
      },
      "source": [
        "root = '/content/drive/My Drive/pzCOSMOS/'"
      ],
      "execution_count": 3,
      "outputs": []
    },
    {
      "cell_type": "code",
      "metadata": {
        "id": "s7ORcElNQzjp"
      },
      "source": [
        "pz=np.load(root+'pz.npy')\n",
        "zs=np.load(root+'z_sources.npy')\n",
        "\n",
        "zs_full = np.linspace(0, 5, 100)\n",
        "pz_full = interp1d(zs, pz, fill_value=\"extrapolate\")(zs_full)\n",
        "pz_full[pz_full<0]=0"
      ],
      "execution_count": 13,
      "outputs": []
    },
    {
      "cell_type": "code",
      "metadata": {
        "id": "d_gAmIffYcaU",
        "outputId": "8f1fb25d-371a-43d8-af78-c166115ae9a7",
        "colab": {
          "base_uri": "https://localhost:8080/",
          "height": 296
        }
      },
      "source": [
        "plot(zs,pz,label='from Benjamin')\n",
        "plot(zs_full, pz_full,'--',label='extrapolated')\n",
        "xlabel('zs')\n",
        "ylabel('p(z)')\n",
        "legend()"
      ],
      "execution_count": 15,
      "outputs": [
        {
          "output_type": "execute_result",
          "data": {
            "text/plain": [
              "<matplotlib.legend.Legend at 0x7fa15ee9d828>"
            ]
          },
          "metadata": {
            "tags": []
          },
          "execution_count": 15
        },
        {
          "output_type": "display_data",
          "data": {
            "image/png": "[encoded data removed]",
            "text/plain": [
              "<Figure size 432x288 with 1 Axes>"
            ]
          },
          "metadata": {
            "tags": [],
            "needs_background": "light"
          }
        }
      ]
    },
    {
      "cell_type": "code",
      "metadata": {
        "id": "cXzGPrCrYjTb"
      },
      "source": [
        "\n",
        "######## planck parameters\n",
        "\n",
        "# LCDM parameters\n",
        "A_s = 2.142e-9\n",
        "h=0.6774\n",
        "OmegaB = 0.0486\n",
        "OmegaM = 0.3089\n",
        "n_s = 0.9667\n",
        "\n",
        "### derived parameters\n",
        "ombh2 = OmegaB*h**2\n",
        "omch2 = (OmegaM-OmegaB)*h**2\n",
        "H0=h*100"
      ],
      "execution_count": 8,
      "outputs": []
    },
    {
      "cell_type": "code",
      "metadata": {
        "id": "e75ifyaCdVLJ"
      },
      "source": [
        ""
      ],
      "execution_count": null,
      "outputs": []
    }
  ]
}